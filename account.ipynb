{
 "cells": [
  {
   "cell_type": "code",
   "execution_count": 2,
   "id": "a7382ba0-a91b-4e60-801e-57b5ab18b0c0",
   "metadata": {},
   "outputs": [],
   "source": [
    "import json\n",
    "import pandas as pd\n",
    "\n",
    "config = {}\n",
    "\n",
    "config['Account01'] = {'userName':'00965350702', 'credentials':'9As9S65I5oVTH@@', 'email':'chiangwe79@gmail.com', 'PIN':'1578'}\n",
    "config['Account02'] = {'userName':'13519265336', 'credentials':'3yvO6Nf0n7C8i@@', 'email':'nijahem966@sfpixel.com', 'PIN':'1578'}\n",
    "config['Account03'] = {'userName':'00158965402', 'credentials':'20B3jjgP0gfh6@@', 'email':'tobege1875@fashlend.com', 'PIN':'1578'}\n",
    "config['Account04'] = {'userName':'00564895601', 'credentials':'67FiRDai4F08c@@', 'email':'moxato1588@hidelux.com', 'PIN':'1578'}\n",
    "config['Account05'] = {'userName':'00589756801', 'credentials':'25QT2r817HKs3@@', 'email':'halawe3295@fashlend.com', 'PIN':'1578'}\n",
    "config['Account06'] = {'userName':'00894578506', 'credentials':'v0SD7bvQ3h1ZF@@', 'email':'celemig664@sfpixel.com', 'PIN':'1578'}\n",
    "config['Account07'] = {'userName':'13519331803', 'credentials':'ZP43Lg8hWobLV@@', 'email':'basobo4180@mcuma.com', 'PIN':'1578'}\n",
    "config['Account08'] = {'userName':'00589845701', 'credentials':'4XQXLl31wWf6p@@', 'email':'naribe3516@hidelux.com', 'PIN':'1578'}\n",
    "config['Account09'] = {'userName':'00895478500', 'credentials':'Xxi0G630WygJq@@', 'email':'yihiv18849@sfpixel.com', 'PIN':'1578'}\n",
    "config['Account10'] = {'userName':'00548963413', 'credentials':'MGf65LUzJ7Pmq@@', 'email':'rehido4617@mcuma.com', 'PIN':'1578'}\n",
    "config['Account11'] = {'userName':'00548956203', 'credentials':'q221HQykYQ6XC@@', 'email':'jamot47178@sfpixel.com', 'PIN':'1578'}\n",
    "config['Account12'] = {'userName':'00895468206', 'credentials':'5prWnWpk15CPO@@', 'email':'ratek13817@hidelux.com', 'PIN':'1578'}\n",
    "config['Account13'] = {'userName':'00859485605', 'credentials':'ueC701Ymcg3TR@@', 'email':'favali8359@fashlend.com', 'PIN':'1578'}\n",
    "config['Account14'] = {'userName':'00589652803', 'credentials':'UxK89l3W8taxt@@', 'email':'mocoj43732@hidelux.com', 'PIN':'1578'}\n",
    "config['Account15'] = {'userName':'00568954702', 'credentials':'B3x7FMYkBgb1g@@', 'email':'palale3657@sfpixel.com', 'PIN':'1578'}\n",
    "config['Account16'] = {'userName':'00485698500', 'credentials':'B3x7FMYkBgb1g@@', 'email':'nicem64836@mcuma.com', 'PIN':'1578'}\n",
    "config['Account17'] = {'userName':'00548965804', 'credentials':'840jx59lU6s5z@@', 'email':'nosix64853@sfpixel.com', 'PIN':'1578'}\n",
    "config['Account18'] = {'userName':'45898548603', 'credentials':'z35Q1wT0Bj5nV@@', 'email':'pimekem499@fashlend.com', 'PIN':'1578'}\n",
    "config['Account19'] = {'userName':'56854569800', 'credentials':'21eNqm9ChEOjp@@', 'email':'bimey74548@fashlend.com', 'PIN':'1578'}\n",
    "config['Account20'] = {'userName':'00562547801', 'credentials':'6a22Y6XZ97MqV@@', 'email':'fayini3838@hidelux.com', 'PIN':'1578'}\n",
    "\n",
    "with open('account.json', 'w+') as fpt:\n",
    "    fpt.write(json.dumps(config))"
   ]
  },
  {
   "cell_type": "code",
   "execution_count": null,
   "id": "37e834f9-659e-496a-ae44-5e80ff6623e7",
   "metadata": {},
   "outputs": [],
   "source": []
  }
 ],
 "metadata": {
  "kernelspec": {
   "display_name": "Python 3 (ipykernel)",
   "language": "python",
   "name": "python3"
  },
  "language_info": {
   "codemirror_mode": {
    "name": "ipython",
    "version": 3
   },
   "file_extension": ".py",
   "mimetype": "text/x-python",
   "name": "python",
   "nbconvert_exporter": "python",
   "pygments_lexer": "ipython3",
   "version": "3.12.1"
  }
 },
 "nbformat": 4,
 "nbformat_minor": 5
}
